{
  "nbformat": 4,
  "nbformat_minor": 0,
  "metadata": {
    "colab": {
      "provenance": [],
      "collapsed_sections": [],
      "authorship_tag": "ABX9TyPSIEQYZBaXIFIKwFUvRAd7",
      "include_colab_link": true
    },
    "kernelspec": {
      "name": "python3",
      "display_name": "Python 3"
    },
    "language_info": {
      "name": "python"
    }
  },
  "cells": [
    {
      "cell_type": "markdown",
      "metadata": {
        "id": "view-in-github",
        "colab_type": "text"
      },
      "source": [
        "<a href=\"https://colab.research.google.com/github/RobertCH37/pracedomowe/blob/main/chelstowski_robert_1_3.ipynb\" target=\"_parent\"><img src=\"https://colab.research.google.com/assets/colab-badge.svg\" alt=\"Open In Colab\"/></a>"
      ]
    },
    {
      "cell_type": "code",
      "execution_count": 32,
      "metadata": {
        "colab": {
          "base_uri": "https://localhost:8080/"
        },
        "id": "i3ipbMVBCWm1",
        "outputId": "4f95eeb7-0be8-4dce-a21a-625c5aed6e16"
      },
      "outputs": [
        {
          "output_type": "stream",
          "name": "stdout",
          "text": [
            "Podaj imię: Robert\n",
            "Podaj nazwisko: Chełstowski\n",
            "Podaj wiek: 12\n",
            "Podaj hasło: iop\n",
            "Powtórz hasło:  iop\n",
            "Wprowadzono poprawne hasło\n",
            "Wprowadź numer telefonu123456789\n",
            "Poprawny numer telefonu\n",
            "Robert Chełstowski iop 123456789\n"
          ]
        }
      ],
      "source": [
        "import sys\n",
        "imie1 = input(\"Podaj imię: \")\n",
        "nazwisko1 = input(\"Podaj nazwisko: \")\n",
        "\n",
        "wiek1 = input(\"Podaj wiek: \")\n",
        "if wiek1.isdigit():\n",
        "  wiek1_int = int(wiek1)\n",
        "  #print(wiek1_int)\n",
        "else:\n",
        "  print(\"wiek musi być zapisany liczbowo\")\n",
        "  #wiek1 = input(\"podaj wiek w liczbie: \")\n",
        "  sys.exit()\n",
        "\n",
        "x = haslo = input(\"Podaj hasło: \")\n",
        "y = powtorz_haslo = input(\"Powtórz hasło:  \")\n",
        "if x == y:\n",
        "  print(\"Wprowadzono poprawne hasło\")\n",
        "else:\n",
        "  print(\"Hasło się nie zgadza\")\n",
        "  sys.exit()\n",
        "\n",
        "numer_tel = input(\"Wprowadź numer telefonu: \")\n",
        "\n",
        "if len(numer_tel) == 9 and numer_tel.isdigit():\n",
        "    print(\"Poprawny numer telefonu\")\n",
        "else:\n",
        "  print(\"Numer telefonu musi zawierać 9 cyfr\")\n",
        "  sys.exit()\n",
        "  #próbowałem tutaj dać replace i translate żeby ignorował wszystkie znaki poza cyframi, ale nie wyszło\n",
        "print(imie1,nazwisko1,haslo,numer_tel)"
      ]
    },
    {
      "cell_type": "code",
      "source": [
        "zmienna1 = str(input(\"Wprowadź znak działania: \"))\n",
        "zmienna2 = input(\"Wprowadź pierwszą liczbę: \")\n",
        "if zmienna2.isdigit():\n",
        "  zmienna2 = int(zmienna2)\n",
        "else: zmienna2 = input(\"Podaj poprawną liczbę: \")\n",
        "zmienna3 = input(\"Wprowadź drugą liczbę: \")\n",
        "if zmienna3.isdigit():\n",
        "  zmienna3 = int(zmienna2)\n",
        "else: zmienna3 = input(\"Podaj poprawną liczbę: \")\n",
        "\n",
        "if zmienna1 == \"/\" or zmienna1 == \":\":\n",
        "  print(zmienna2/zmienna3)\n",
        "elif zmienna1 == \"+\":\n",
        "  print(zmienna2+zmienna3)\n",
        "elif zmienna1 == \"*\":\n",
        "  print(zmienna2*zmienna3)\n",
        "elif zmienna1 == \"-\":\n",
        "  print(zmienna2-zmienna3)\n",
        "elif zmienna1 == \"**\" or zmienna1 == \"^\":\n",
        "  print(zmienna2**zmienna3)\n",
        "elif zmienna1 == \"%\":\n",
        "  print(zmienna2%zmienna3)\n",
        "else:\n",
        "  print(\"Niepoprawny znak działania\")\n",
        "  exit()\n",
        "#nie wiem czy stosować exit czy sys.exit"
      ],
      "metadata": {
        "colab": {
          "base_uri": "https://localhost:8080/"
        },
        "id": "e6fSiTGWXtWq",
        "outputId": "df598fa5-1bb4-4b95-ddc0-9bbde0e055e8"
      },
      "execution_count": 1,
      "outputs": [
        {
          "output_type": "stream",
          "name": "stdout",
          "text": [
            "Wprowadź znak działania: +\n",
            "Wprowadź pierwszą liczbę: 12\n",
            "Wprowadź drugą liczbę: 12\n",
            "24\n"
          ]
        }
      ]
    }
  ]
}