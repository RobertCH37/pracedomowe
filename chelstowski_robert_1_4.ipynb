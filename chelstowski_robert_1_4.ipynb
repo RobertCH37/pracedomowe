{
  "nbformat": 4,
  "nbformat_minor": 0,
  "metadata": {
    "colab": {
      "provenance": [],
      "authorship_tag": "ABX9TyPXGsV9DlkRUBzY/vToS9uJ",
      "include_colab_link": true
    },
    "kernelspec": {
      "name": "python3",
      "display_name": "Python 3"
    },
    "language_info": {
      "name": "python"
    }
  },
  "cells": [
    {
      "cell_type": "markdown",
      "metadata": {
        "id": "view-in-github",
        "colab_type": "text"
      },
      "source": [
        "<a href=\"https://colab.research.google.com/github/RobertCH37/pracedomowe/blob/main/chelstowski_robert_1_4.ipynb\" target=\"_parent\"><img src=\"https://colab.research.google.com/assets/colab-badge.svg\" alt=\"Open In Colab\"/></a>"
      ]
    },
    {
      "cell_type": "code",
      "execution_count": 78,
      "metadata": {
        "colab": {
          "base_uri": "https://localhost:8080/"
        },
        "id": "Yx1xLpsKhKMb",
        "outputId": "bf1a0cce-1268-483a-f9b4-fe513b65ca7f"
      },
      "outputs": [
        {
          "output_type": "stream",
          "name": "stdout",
          "text": [
            "Podaj n: 9\n",
            "[]\n",
            "[1]\n",
            "[1, 2]\n",
            "[1, 2, 4]\n",
            "[1, 2, 4, 5]\n",
            "[1, 2, 4, 5, 6]\n",
            "[1, 2, 4, 5, 6, 7]\n",
            "[1, 2, 4, 5, 6, 7, 8]\n",
            "[1, 2, 4, 5, 6, 7, 8, 9]\n"
          ]
        }
      ],
      "source": [
        "lista = [1, 2, 4, 5, 6, 7, 8, 9]\n",
        "n = int(input(\"Podaj n: \"))\n",
        "for i in range(n):\n",
        "  print(lista[:0+1*i])"
      ]
    },
    {
      "cell_type": "code",
      "source": [
        "for i in range(6):\n",
        "  print(\"*\" * i)\n",
        "for i in range(5):\n",
        "  z = 4-i\n",
        "  if z>0:\n",
        "    print(\"*\" * z)"
      ],
      "metadata": {
        "colab": {
          "base_uri": "https://localhost:8080/"
        },
        "id": "nnCVbkfLm2M0",
        "outputId": "f42b0093-83f1-4a25-9efc-703ca1bceb92"
      },
      "execution_count": 79,
      "outputs": [
        {
          "output_type": "stream",
          "name": "stdout",
          "text": [
            "\n",
            "*\n",
            "**\n",
            "***\n",
            "****\n",
            "*****\n",
            "****\n",
            "***\n",
            "**\n",
            "*\n"
          ]
        }
      ]
    },
    {
      "cell_type": "code",
      "source": [
        "lista_liczb = [6, 2, 3, 7, 1, 12, 56, 99]\n",
        "lista_liczb.sort()\n",
        "print(lista_liczb[:1])"
      ],
      "metadata": {
        "colab": {
          "base_uri": "https://localhost:8080/"
        },
        "id": "B1uRI3pav35m",
        "outputId": "4cce312f-2519-4143-e9ae-ac62da6ad1bb"
      },
      "execution_count": 87,
      "outputs": [
        {
          "output_type": "stream",
          "name": "stdout",
          "text": [
            "[1]\n"
          ]
        }
      ]
    },
    {
      "cell_type": "code",
      "source": [
        "for i in lista_liczb:\n",
        "  if i > 9:\n",
        "    str(i)\n",
        "    print(i)"
      ],
      "metadata": {
        "colab": {
          "base_uri": "https://localhost:8080/"
        },
        "id": "24pAWsIXyDXW",
        "outputId": "87bff1f7-b0cd-4aac-b2c9-624c4118c83e"
      },
      "execution_count": 98,
      "outputs": [
        {
          "output_type": "stream",
          "name": "stdout",
          "text": [
            "12\n",
            "56\n",
            "99\n"
          ]
        },
        {
          "output_type": "execute_result",
          "data": {
            "text/plain": [
              "str"
            ]
          },
          "metadata": {},
          "execution_count": 98
        }
      ]
    }
  ]
}