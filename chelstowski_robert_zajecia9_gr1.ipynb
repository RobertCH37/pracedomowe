{
  "nbformat": 4,
  "nbformat_minor": 0,
  "metadata": {
    "colab": {
      "provenance": [],
      "authorship_tag": "ABX9TyNJsd3JYW9sx/w3a96OYTek",
      "include_colab_link": true
    },
    "kernelspec": {
      "name": "python3",
      "display_name": "Python 3"
    },
    "language_info": {
      "name": "python"
    }
  },
  "cells": [
    {
      "cell_type": "markdown",
      "metadata": {
        "id": "view-in-github",
        "colab_type": "text"
      },
      "source": [
        "<a href=\"https://colab.research.google.com/github/RobertCH37/pracedomowe/blob/main/chelstowski_robert_zajecia9_gr1.ipynb\" target=\"_parent\"><img src=\"https://colab.research.google.com/assets/colab-badge.svg\" alt=\"Open In Colab\"/></a>"
      ]
    },
    {
      "cell_type": "code",
      "execution_count": 15,
      "metadata": {
        "colab": {
          "base_uri": "https://localhost:8080/"
        },
        "id": "G5eieETgRI35",
        "outputId": "03069867-d465-4912-8007-2cadde4a388e"
      },
      "outputs": [
        {
          "output_type": "stream",
          "name": "stdout",
          "text": [
            "['Hubar, Patryk', 'Mickiewicz, Adam']\n"
          ]
        }
      ],
      "source": [
        "import re\n",
        "tekst1 = \"Imię i nazwisko: Hubar, Patryk. Data urodzenia: 7 czerwca 1993. Numer telefonu: 123-456-789\"\n",
        "tekst2 = \"Imię i nazwisko: Mickiewicz, Adam. Data urodzenia: 22 stycznia 1877. Numer telefonu: 789456123\"\n",
        "\n",
        "regex_imie_nazwisko =\"[A-Z][a-z]+\\, [A-Z][a-z]+\"\n",
        "imie_nazwisko1 = re.findall(regex_imie_nazwisko, tekst1)\n",
        "imie_nazwisko2 = re.findall(regex_imie_nazwisko, tekst2)\n",
        "\n",
        "imie_nazwisko = imie_nazwisko1 + imie_nazwisko2\n",
        "\n",
        "print(imie_nazwisko)"
      ]
    },
    {
      "cell_type": "code",
      "source": [
        "import re\n",
        "regex_data_urodzenia = \"\\d+\\ [a-z]+\\ \\d+\"\n",
        "data_urodzenia1 = re.findall(regex_data_urodzenia, tekst1)\n",
        "data_urodzenia2 = re.findall(regex_data_urodzenia, tekst2)\n",
        "\n",
        "data_urodzenia = data_urodzenia1 + data_urodzenia2\n",
        "print(data_urodzenia)"
      ],
      "metadata": {
        "colab": {
          "base_uri": "https://localhost:8080/"
        },
        "id": "kj1rYEjdVsw1",
        "outputId": "f7bafed1-4a90-4752-80fc-e77afdd5b4b3"
      },
      "execution_count": 16,
      "outputs": [
        {
          "output_type": "stream",
          "name": "stdout",
          "text": [
            "['7 czerwca 1993', '22 stycznia 1877']\n"
          ]
        }
      ]
    },
    {
      "cell_type": "code",
      "source": [
        "import re\n",
        "regex_numer_telefonu = \"\\d{3}-\\d{3}-\\d{3}|\\d{9}\"\n",
        "numer_telefonu1 = re.findall(regex_numer_telefonu, tekst1)\n",
        "numer_telefonu2 = re.findall(regex_numer_telefonu, tekst2)\n",
        "\n",
        "numer_telefonu = numer_telefonu1 + numer_telefonu2\n",
        "print(numer_telefonu)"
      ],
      "metadata": {
        "colab": {
          "base_uri": "https://localhost:8080/"
        },
        "id": "fHNd6Vy5Vsme",
        "outputId": "df5bce89-8e4c-4069-f829-2f05c68f78d2"
      },
      "execution_count": 17,
      "outputs": [
        {
          "output_type": "stream",
          "name": "stdout",
          "text": [
            "['123-456-789', '789456123']\n"
          ]
        }
      ]
    }
  ]
}