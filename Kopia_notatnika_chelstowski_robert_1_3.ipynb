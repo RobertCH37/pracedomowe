{
  "nbformat": 4,
  "nbformat_minor": 0,
  "metadata": {
    "colab": {
      "provenance": [],
      "collapsed_sections": [],
      "authorship_tag": "ABX9TyPtjgSNSSP0LoqoGFHXSpYY",
      "include_colab_link": true
    },
    "kernelspec": {
      "name": "python3",
      "display_name": "Python 3"
    },
    "language_info": {
      "name": "python"
    }
  },
  "cells": [
    {
      "cell_type": "markdown",
      "metadata": {
        "id": "view-in-github",
        "colab_type": "text"
      },
      "source": [
        "<a href=\"https://colab.research.google.com/github/RobertCH37/pracedomowe/blob/main/Kopia_notatnika_chelstowski_robert_1_3.ipynb\" target=\"_parent\"><img src=\"https://colab.research.google.com/assets/colab-badge.svg\" alt=\"Open In Colab\"/></a>"
      ]
    },
    {
      "cell_type": "code",
      "source": [
        "zmienna1 = str(input(\"Wprowadź znak działania: \"))\n",
        "zmienna2 = input(\"Wprowadź pierwszą liczbę: \")\n",
        "def is_number(zmienna2):\n",
        "    try:\n",
        "        float(zmienna2)\n",
        "        return True\n",
        "    except ValueError:\n",
        "        return False\n",
        "if is_number(zmienna2) == True:\n",
        "  zmienna2 = float(zmienna2) \n",
        "else:\n",
        "  zmienna2 = float(input(\"Podaj poprawną liczbę: \"))\n",
        "\n",
        "zmienna3 = input(\"Wprowadź drugą liczbę: \")\n",
        "def is_number(zmienna3):\n",
        "    try:\n",
        "        float(zmienna3)\n",
        "        return True\n",
        "    except ValueError:\n",
        "        return False\n",
        "if is_number(zmienna3) == True:\n",
        "  zmienna3 = float(zmienna3) \n",
        "else:\n",
        "  zmienna3 = float(input(\"Podaj poprawną liczbę: \"))\n",
        "if zmienna1 == \"/\" or zmienna1 == \":\":\n",
        "  print(zmienna2/zmienna3)\n",
        "elif zmienna1 == \"+\":\n",
        "  print(zmienna2+zmienna3)\n",
        "elif zmienna1 == \"*\":\n",
        "  print(zmienna2*zmienna3)\n",
        "elif zmienna1 == \"-\":\n",
        "  print(zmienna2-zmienna3)\n",
        "elif zmienna1 == \"**\" or zmienna1 == \"^\":\n",
        "  print(zmienna2**zmienna3)\n",
        "elif zmienna1 == \"%\":\n",
        "  print(zmienna2%zmienna3)\n",
        "else:\n",
        "  print(\"Niepoprawny znak działania\")\n",
        "  exit()\n",
        "#nie wiem czy stosować exit czy sys.exit"
      ],
      "metadata": {
        "colab": {
          "base_uri": "https://localhost:8080/"
        },
        "id": "e6fSiTGWXtWq",
        "outputId": "3a361f5b-e838-40be-d16f-9b1d77839d2f"
      },
      "execution_count": 9,
      "outputs": [
        {
          "output_type": "stream",
          "name": "stdout",
          "text": [
            "Wprowadź znak działania: /\n",
            "Wprowadź pierwszą liczbę: 21.57\n",
            "Wprowadź drugą liczbę: 21\n",
            "1.0271428571428571\n"
          ]
        }
      ]
    }
  ]
}