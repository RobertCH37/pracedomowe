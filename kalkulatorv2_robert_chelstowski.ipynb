{
  "nbformat": 4,
  "nbformat_minor": 0,
  "metadata": {
    "colab": {
      "provenance": [],
      "authorship_tag": "ABX9TyOIBU8RS2/8bBspU23Gg5YS",
      "include_colab_link": true
    },
    "kernelspec": {
      "name": "python3",
      "display_name": "Python 3"
    },
    "language_info": {
      "name": "python"
    }
  },
  "cells": [
    {
      "cell_type": "markdown",
      "metadata": {
        "id": "view-in-github",
        "colab_type": "text"
      },
      "source": [
        "<a href=\"https://colab.research.google.com/github/RobertCH37/pracedomowe/blob/main/kalkulatorv2_robert_chelstowski.ipynb\" target=\"_parent\"><img src=\"https://colab.research.google.com/assets/colab-badge.svg\" alt=\"Open In Colab\"/></a>"
      ]
    },
    {
      "cell_type": "code",
      "execution_count": 6,
      "metadata": {
        "colab": {
          "base_uri": "https://localhost:8080/"
        },
        "id": "S4uZaEbnwEVm",
        "outputId": "32d38a7f-8f3c-4836-8195-1dff8da84b40"
      },
      "outputs": [
        {
          "output_type": "stream",
          "name": "stdout",
          "text": [
            "Podaj znak działania: -\n",
            "Wprowadź pierwszą liczbę: 123\n",
            "Wprowadź drugą liczbę: 16.16\n",
            "106.84\n"
          ]
        }
      ],
      "source": [
        "dzialanie = input(\"Podaj znak działania: \")\n",
        "\n",
        "#to z def is_number to dodatkowy krok, w podstawowej wersji wystarczyłoby float(input())\n",
        "zmienna1 = input(\"Wprowadź pierwszą liczbę: \")\n",
        "def is_number():\n",
        "    try:\n",
        "        float(zmienna1)\n",
        "        return True\n",
        "    except ValueError:\n",
        "        return False\n",
        "if is_number() == True:\n",
        "  zmienna1 = float(zmienna1) \n",
        "else:\n",
        "  zmienna1 = float(input(\"Podaj poprawną liczbę: \"))\n",
        "\n",
        "zmienna2 = input(\"Wprowadź drugą liczbę: \")\n",
        "def is_number():\n",
        "    try:\n",
        "        float(zmienna2)\n",
        "        return True\n",
        "    except ValueError:\n",
        "        return False\n",
        "if is_number() == True:\n",
        "  zmienna2 = float(zmienna2) \n",
        "else:\n",
        "  zmienna2 = float(input(\"Podaj poprawną liczbę: \"))\n",
        "\n",
        "def dodawanie():\n",
        "  return zmienna1+zmienna2\n",
        "\n",
        "def odejmowanie():\n",
        "  return zmienna1 - zmienna2\n",
        "\n",
        "def mnozenie():\n",
        "  return zmienna1 * zmienna2\n",
        "\n",
        "def dzielenie():\n",
        "  return zmienna1 / zmienna2\n",
        "\n",
        "def potegowanie():\n",
        "  return zmienna1 ** zmienna2\n",
        "\n",
        "def modulo():\n",
        "  return zmienna1 / zmienna2\n",
        "\n",
        "if dzialanie == \"/\" or dzialanie == \":\":\n",
        "  print(dzielenie())\n",
        "elif dzialanie == \"+\":\n",
        "  print(dodawanie())\n",
        "elif dzialanie == \"*\":\n",
        "  print(mnozenie())\n",
        "elif dzialanie == \"-\":\n",
        "  print(odejmowanie())\n",
        "elif dzialanie == \"**\" or dzialanie == \"^\":\n",
        "  print(potegowanie())\n",
        "elif dzialanie == \"%\":\n",
        "  print(modulo())\n",
        "else:\n",
        "  print(\"Niepoprawny znak działania\")\n"
      ]
    }
  ]
}