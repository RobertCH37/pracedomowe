{
  "nbformat": 4,
  "nbformat_minor": 0,
  "metadata": {
    "colab": {
      "provenance": [],
      "authorship_tag": "ABX9TyNNMMzJDzBjN8iExFV8XXMe",
      "include_colab_link": true
    },
    "kernelspec": {
      "name": "python3",
      "display_name": "Python 3"
    },
    "language_info": {
      "name": "python"
    }
  },
  "cells": [
    {
      "cell_type": "markdown",
      "metadata": {
        "id": "view-in-github",
        "colab_type": "text"
      },
      "source": [
        "<a href=\"https://colab.research.google.com/github/RobertCH37/pracedomowe/blob/main/robert_chelstowski_1_2.ipynb\" target=\"_parent\"><img src=\"https://colab.research.google.com/assets/colab-badge.svg\" alt=\"Open In Colab\"/></a>"
      ]
    },
    {
      "cell_type": "code",
      "execution_count": null,
      "metadata": {
        "colab": {
          "base_uri": "https://localhost:8080/"
        },
        "id": "FIupqJsMxll1",
        "outputId": "27b9f0a0-6fa8-4c15-e21e-eccc43a5cf0d"
      },
      "outputs": [
        {
          "output_type": "stream",
          "name": "stdout",
          "text": [
            "ęcia z pro\n",
            "Uwielbiam zajęcia z programowania\n",
            "wlazęa oawi\n"
          ]
        }
      ],
      "source": [
        "zmienna1 = \"Uwielbiam zajęcia z programowania\"\n",
        "print(zmienna1[13:23])\n",
        "print(zmienna1[-36:])\n",
        "print(zmienna1[1:36:3])"
      ]
    },
    {
      "cell_type": "code",
      "source": [
        "zmienna2 = \"Czarny to mój ulubiony kolor. Niestety, kolor czarny bardzo szybko spiera się z moich ubrań.\"\n",
        "zmienna2.istitle()\n"
      ],
      "metadata": {
        "colab": {
          "base_uri": "https://localhost:8080/"
        },
        "id": "VH6Z2Tt1yx3v",
        "outputId": "52db8e57-5a0a-4ba7-b375-5594bf265bfe"
      },
      "execution_count": 2,
      "outputs": [
        {
          "output_type": "execute_result",
          "data": {
            "text/plain": [
              "False"
            ]
          },
          "metadata": {},
          "execution_count": 2
        }
      ]
    },
    {
      "cell_type": "code",
      "source": [
        "zmienna2.startswith(\"C\")"
      ],
      "metadata": {
        "colab": {
          "base_uri": "https://localhost:8080/"
        },
        "id": "1JJYsci30Nmt",
        "outputId": "858b165a-f4a0-4380-c330-8fc809022974"
      },
      "execution_count": 3,
      "outputs": [
        {
          "output_type": "execute_result",
          "data": {
            "text/plain": [
              "True"
            ]
          },
          "metadata": {},
          "execution_count": 3
        }
      ]
    },
    {
      "cell_type": "code",
      "source": [
        "zmienna4 = zmienna2.lower()\n",
        "zmienna3 = zmienna4.replace(\"czarny\",\"biały\")\n",
        "zmienna3.capitalize()\n"
      ],
      "metadata": {
        "colab": {
          "base_uri": "https://localhost:8080/",
          "height": 35
        },
        "id": "xcXwMoOq0Wj2",
        "outputId": "b1626c42-e3b9-423a-e19e-568ebd7bcf4d"
      },
      "execution_count": 8,
      "outputs": [
        {
          "output_type": "execute_result",
          "data": {
            "text/plain": [
              "'Biały to mój ulubiony kolor. niestety, kolor biały bardzo szybko spiera się z moich ubrań.'"
            ],
            "application/vnd.google.colaboratory.intrinsic+json": {
              "type": "string"
            }
          },
          "metadata": {},
          "execution_count": 8
        }
      ]
    }
  ]
}