{
  "nbformat": 4,
  "nbformat_minor": 0,
  "metadata": {
    "colab": {
      "provenance": [],
      "collapsed_sections": []
    },
    "kernelspec": {
      "name": "python3",
      "display_name": "Python 3"
    },
    "language_info": {
      "name": "python"
    }
  },
  "cells": [
    {
      "cell_type": "code",
      "execution_count": 2,
      "metadata": {
        "colab": {
          "base_uri": "https://localhost:8080/"
        },
        "id": "X9q1sDWQ6Zx1",
        "outputId": "bc54983c-7f9d-4f17-9674-c20ce946a035"
      },
      "outputs": [
        {
          "output_type": "stream",
          "name": "stdout",
          "text": [
            "Lorem ipsum dolor sit amet, consectetur adipiscing elit,\n",
            "sed do eiusmod tempor incididunt ut labore\n",
            "et dolore magna aliqua.\n"
          ]
        }
      ],
      "source": [
        "print(\"Lorem ipsum dolor sit amet, consectetur adipiscing elit,\")\n",
        "print(\"sed do eiusmod tempor incididunt ut labore\")\n",
        "print(\"et dolore magna aliqua.\")"
      ]
    },
    {
      "cell_type": "code",
      "source": [
        "x = 1 #int\n",
        "x1 = 1.15 #float\n",
        "x2 = \"jeden\" #str\n",
        "x3 = 1 == 2 #bool (true lub false)\n",
        "\n",
        "typy_danych = {x, x1, x2, x3}\n",
        "print(typy_danych)"
      ],
      "metadata": {
        "colab": {
          "base_uri": "https://localhost:8080/"
        },
        "id": "rcEFr1oD7Eyu",
        "outputId": "b43896a8-c15d-4bcd-8102-601de740d462"
      },
      "execution_count": 16,
      "outputs": [
        {
          "output_type": "stream",
          "name": "stdout",
          "text": [
            "{'jeden', 1, 1.15, False}\n"
          ]
        }
      ]
    },
    {
      "cell_type": "code",
      "source": [
        "a = 15\n",
        "b = 5\n",
        "print(a + b)\n",
        "print(a - b)\n",
        "print(a * b)\n",
        "print(a / b)\n",
        "print(a % b) \n",
        "print(a ** b)"
      ],
      "metadata": {
        "colab": {
          "base_uri": "https://localhost:8080/"
        },
        "id": "WtAd6OUj-K0p",
        "outputId": "7c28728d-a9b1-418c-a5da-673ea48d6eed"
      },
      "execution_count": 17,
      "outputs": [
        {
          "output_type": "stream",
          "name": "stdout",
          "text": [
            "20\n",
            "10\n",
            "75\n",
            "3.0\n",
            "0\n",
            "759375\n"
          ]
        }
      ]
    },
    {
      "cell_type": "code",
      "source": [
        "c = 3\n",
        "d = 3.7\n",
        "print(c == d) \n",
        "print(c != d) \n",
        "print(c > d)\n",
        "print(c < d)\n",
        "print(c >= d)\n",
        "print(c <= d)"
      ],
      "metadata": {
        "colab": {
          "base_uri": "https://localhost:8080/"
        },
        "id": "men0Yyqp_AVI",
        "outputId": "50339c9b-ad7f-47f7-b0ce-0b4a87cbbdf4"
      },
      "execution_count": 18,
      "outputs": [
        {
          "output_type": "stream",
          "name": "stdout",
          "text": [
            "False\n",
            "True\n",
            "False\n",
            "True\n",
            "False\n",
            "True\n"
          ]
        }
      ]
    },
    {
      "cell_type": "code",
      "source": [
        "zmienna1 = \"Miłego\"\n",
        "zmienna2 = \"Dnia\"\n",
        "print(zmienna1, \"<- pierwsza zmienna | druga zmienna->\", zmienna2)"
      ],
      "metadata": {
        "colab": {
          "base_uri": "https://localhost:8080/"
        },
        "id": "hUxv6n-Z_sUH",
        "outputId": "ad4d13bb-abb4-4b51-cc38-ec9ea94a6e54"
      },
      "execution_count": 24,
      "outputs": [
        {
          "output_type": "stream",
          "name": "stdout",
          "text": [
            "Miłego <- pierwsza zmienna | druga zmienna-> Dnia\n"
          ]
        }
      ]
    }
  ]
}